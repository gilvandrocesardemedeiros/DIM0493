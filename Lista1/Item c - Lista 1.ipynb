{
 "cells": [
  {
   "cell_type": "code",
   "execution_count": 1,
   "metadata": {},
   "outputs": [],
   "source": [
    "from random import randint\n",
    "import numpy as np\n",
    "import matplotlib.pyplot as plt\n",
    "from scipy import stats\n",
    "from statistics import pvariance"
   ]
  },
  {
   "cell_type": "code",
   "execution_count": 2,
   "metadata": {},
   "outputs": [],
   "source": [
    "x, y = np.array([randint(0,100)]), np.array([randint(0,100)])\n",
    "for i in range(199):\n",
    "    x = np.append(x, [randint(0,100)])\n",
    "    y = np.append(y, [randint(0,100)])"
   ]
  },
  {
   "cell_type": "code",
   "execution_count": 3,
   "metadata": {},
   "outputs": [],
   "source": [
    "textX = \"\"\n",
    "for i in range(200):\n",
    "    textX = (textX + \", \" + str(x[i])) if (i != 0) else (str(x[i]))\n",
    "    textY = (textY + \", \" + str(y[i])) if (i != 0) else (str(y[i]))"
   ]
  },
  {
   "cell_type": "code",
   "execution_count": 4,
   "metadata": {},
   "outputs": [
    {
     "data": {
      "image/png": "[encoded data removed]",
      "text/plain": [
       "<Figure size 432x288 with 1 Axes>"
      ]
     },
     "metadata": {
      "needs_background": "light"
     },
     "output_type": "display_data"
    },
    {
     "data": {
      "image/png": "[encoded data removed]",
      "text/plain": [
       "<Figure size 432x288 with 1 Axes>"
      ]
     },
     "metadata": {
      "needs_background": "light"
     },
     "output_type": "display_data"
    }
   ],
   "source": [
    "plt.hist(x, 20)\n",
    "plt.xlabel('Valores de x')\n",
    "plt.xlim(0, 100)\n",
    "plt.ylabel('Frequência')\n",
    "plt.title('Histrograma para variáveis de x com 20 classes')\n",
    "plt.grid(True)\n",
    "plt.show()\n",
    "plt.hist(y, 20)\n",
    "plt.xlabel('Valores de y')\n",
    "plt.xlim(0, 100)\n",
    "plt.ylabel('Frequência')\n",
    "plt.title('Histrograma para variáveis de y com 20 classes')\n",
    "plt.grid(True)\n",
    "plt.show()"
   ]
  },
  {
   "cell_type": "code",
   "execution_count": 5,
   "metadata": {},
   "outputs": [
    {
     "data": {
      "text/plain": [
       "array([ 84,  55,   5,  63,  40,  74,  11,  47,  91,  53,  88,  11,  22,\n",
       "        78,  54,  67,  76,   7,  29,  87,  92,  19,  90,  97,  67,  11,\n",
       "        97,  15,  59,  10,  77,  82,  30,  64,  76,  16,  81,  70,  28,\n",
       "        46,  83,  14,  70,  87,  65,  49,  14,  81,  97,  71,  28,  74,\n",
       "        90,  37,  67,   0,  64,  96,  30,  66,  77,  14,  42,  86,  51,\n",
       "        65,  24,  15,   1,  81,   6,  81,  81,  17,  67,  49,  99,  83,\n",
       "        86,  37,  83,   1,  25,  43,  38,  10,  86,  69,  31,  74,  94,\n",
       "        98,  13,  72,  66,  61,  82,  47,  39,  35,  97,  68,  98,  55,\n",
       "        91,  60,  80,  45,   9,  53,  82,  64,  92,  98,  56,  40,  52,\n",
       "        39,  57,  18,  52,  41,   8,   8,  34,   0,   4,  50,  25,  38,\n",
       "        12,  13,  68,  43,  58,  75,   0,  74,  11,  54,  73,  48,  81,\n",
       "         9,  55,  91,  60,  41,  64,  97,  33,  96,  49,  52,  44,  11,\n",
       "       100,  83,  67,  10,  43,   1,  75,  98,  12,  78,  63,  48,   8,\n",
       "        95,  30,   1,  54,  31,  13,  72,  64,  29,   6,  35,   6,  83,\n",
       "        85,  35,  20,  34,  77,  11,  17,  33,  27,  27,  59,  45,  19,\n",
       "        13,  12,  18,  37,  29])"
      ]
     },
     "execution_count": 5,
     "metadata": {},
     "output_type": "execute_result"
    }
   ],
   "source": [
    "x"
   ]
  },
  {
   "cell_type": "code",
   "execution_count": 6,
   "metadata": {},
   "outputs": [
    {
     "data": {
      "text/plain": [
       "array([ 45,  17,  97,   9,  63,  52,  92,  58,  59,  15,  63,   4,  32,\n",
       "        94,  96,  81,  77,  20,  67,  29,  60,  16,  80,  11,  67,  73,\n",
       "        70,   9,  69,  74,  65,  30,  51,  38,  54,  35,  56,  29,  13,\n",
       "        89,  67,   2,  25,  97,  47,   0,  21,  76,  97,  56,  45,  46,\n",
       "        47,  53,  87,  61, 100,  83,  60,  34,  59,  84,  14,  61,  28,\n",
       "         0,  68,   1,  33,  66,  56,  62,  93,  71,  52,  89,  52,  31,\n",
       "        59,  83,  65,  86,  54,  78,  21,  58,  30,   2,  16,  22,  67,\n",
       "         2,  69,  69,  69,  75,   4,  57,  56,  86,  39,  14,  36,  49,\n",
       "        14,  91,  66,  65,  94,  85,  92,  79,  50,  88,  82,  12,  63,\n",
       "        56,  21,  20,  52,  78,  83,  21,  22,  40,   3,  79,  84,  83,\n",
       "        92,  59,  72,  23,  51,  94,  46,   8,  42,  38,  31,  62,  26,\n",
       "        93,  77,   5,  21,   7,  83,  97,  70,  95,  19,  70,  96,  59,\n",
       "        96,  86,  69,  47,  23,  45,  30,  72,  82,  29,  59,  67,  40,\n",
       "         4,  16,   9,  25,  16,  84,  96,  40,  18,  75,  51,  93,  38,\n",
       "        75,  27,   2,  66,  49,  43,  31,  17,  20,  35,  40,  72,  95,\n",
       "        48,   0,  63,  91,  29])"
      ]
     },
     "execution_count": 6,
     "metadata": {},
     "output_type": "execute_result"
    }
   ],
   "source": [
    "y"
   ]
  },
  {
   "cell_type": "code",
   "execution_count": 7,
   "metadata": {},
   "outputs": [
    {
     "name": "stdout",
     "output_type": "stream",
     "text": [
      "Média para x:  50.55\n",
      "Média para y:  52.105\n",
      "Mediana para x:  52.0\n",
      "Mediana para y:  56.0\n",
      "Moda para x:  11\n",
      "Moda para y:  59\n",
      "Variância para x:  874\n",
      "Variância para y:  808\n",
      "Desvio padrão para x:  29.563490998188964\n",
      "Desvio padrão para y:  28.42534080710379\n"
     ]
    }
   ],
   "source": [
    "print(\"Média para x: \", x.mean())\n",
    "print(\"Média para y: \", y.mean())\n",
    "print(\"Mediana para x: \", np.median(x))\n",
    "print(\"Mediana para y: \", np.median(y))\n",
    "print(\"Moda para x: \", stats.mode(x)[0][0])\n",
    "print(\"Moda para y: \", stats.mode(y)[0][0])\n",
    "print(\"Variância para x: \", pvariance(x))\n",
    "print(\"Variância para y: \", pvariance(y))\n",
    "print(\"Desvio padrão para x: \", pow(pvariance(x), 0.5))\n",
    "print(\"Desvio padrão para y: \", pow(pvariance(y), 0.5))"
   ]
  },
  {
   "cell_type": "code",
   "execution_count": 10,
   "metadata": {},
   "outputs": [
    {
     "name": "stdout",
     "output_type": "stream",
     "text": [
      "Coef Corr Pearson:  0.0880719568006381\n"
     ]
    }
   ],
   "source": [
    "num = 0\n",
    "denX = 0\n",
    "denY = 0\n",
    "for i in range(len(x)):\n",
    "    num = num + ((x[i] - x.mean()) * (y[i] - y.mean()))\n",
    "    denX = denX + ((x[i] - x.mean()) ** 2)\n",
    "    denY = denY + ((y[i] - y.mean()) ** 2)\n",
    "coefCorr = num / pow((denX * denY), 0.5)\n",
    "print(\"Coef Corr Pearson: \", coefCorr)"
   ]
  }
 ],
 "metadata": {
  "kernelspec": {
   "display_name": "Python 3",
   "language": "python",
   "name": "python3"
  },
  "language_info": {
   "codemirror_mode": {
    "name": "ipython",
    "version": 3
   },
   "file_extension": ".py",
   "mimetype": "text/x-python",
   "name": "python",
   "nbconvert_exporter": "python",
   "pygments_lexer": "ipython3",
   "version": "3.6.8"
  }
 },
 "nbformat": 4,
 "nbformat_minor": 2
}
