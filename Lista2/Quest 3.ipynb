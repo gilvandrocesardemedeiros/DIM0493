{
 "cells": [
  {
   "cell_type": "code",
   "execution_count": 1,
   "metadata": {},
   "outputs": [],
   "source": [
    "import pandas as pd\n",
    "import numpy as np\n",
    "import math\n",
    "import matplotlib.pyplot as plt"
   ]
  },
  {
   "cell_type": "code",
   "execution_count": 2,
   "metadata": {},
   "outputs": [],
   "source": [
    "data = pd.read_excel(\"C4_Dados.xlsx\").drop(columns = [\"Unnamed: 0\",\"Unnamed: 1\"]).dropna()"
   ]
  },
  {
   "cell_type": "code",
   "execution_count": 3,
   "metadata": {},
   "outputs": [
    {
     "data": {
      "text/html": [
       "<div>\n",
       "<style scoped>\n",
       "    .dataframe tbody tr th:only-of-type {\n",
       "        vertical-align: middle;\n",
       "    }\n",
       "\n",
       "    .dataframe tbody tr th {\n",
       "        vertical-align: top;\n",
       "    }\n",
       "\n",
       "    .dataframe thead th {\n",
       "        text-align: right;\n",
       "    }\n",
       "</style>\n",
       "<table border=\"1\" class=\"dataframe\">\n",
       "  <thead>\n",
       "    <tr style=\"text-align: right;\">\n",
       "      <th></th>\n",
       "      <th>V1</th>\n",
       "      <th>V2</th>\n",
       "      <th>V3</th>\n",
       "      <th>V4</th>\n",
       "      <th>V5</th>\n",
       "      <th>V6</th>\n",
       "    </tr>\n",
       "  </thead>\n",
       "  <tbody>\n",
       "    <tr>\n",
       "      <th>1</th>\n",
       "      <td>87.0</td>\n",
       "      <td>15.0</td>\n",
       "      <td>7.0</td>\n",
       "      <td>8.0</td>\n",
       "      <td>8.0</td>\n",
       "      <td>196.0</td>\n",
       "    </tr>\n",
       "    <tr>\n",
       "      <th>2</th>\n",
       "      <td>97.0</td>\n",
       "      <td>19.0</td>\n",
       "      <td>7.0</td>\n",
       "      <td>24.0</td>\n",
       "      <td>10.0</td>\n",
       "      <td>231.0</td>\n",
       "    </tr>\n",
       "    <tr>\n",
       "      <th>3</th>\n",
       "      <td>138.0</td>\n",
       "      <td>26.0</td>\n",
       "      <td>9.0</td>\n",
       "      <td>16.0</td>\n",
       "      <td>11.0</td>\n",
       "      <td>221.0</td>\n",
       "    </tr>\n",
       "    <tr>\n",
       "      <th>4</th>\n",
       "      <td>99.0</td>\n",
       "      <td>21.0</td>\n",
       "      <td>10.0</td>\n",
       "      <td>8.0</td>\n",
       "      <td>10.0</td>\n",
       "      <td>193.0</td>\n",
       "    </tr>\n",
       "    <tr>\n",
       "      <th>5</th>\n",
       "      <td>146.0</td>\n",
       "      <td>5.0</td>\n",
       "      <td>13.0</td>\n",
       "      <td>5.0</td>\n",
       "      <td>6.0</td>\n",
       "      <td>242.0</td>\n",
       "    </tr>\n",
       "  </tbody>\n",
       "</table>\n",
       "</div>"
      ],
      "text/plain": [
       "      V1    V2    V3    V4    V5     V6\n",
       "1   87.0  15.0   7.0   8.0   8.0  196.0\n",
       "2   97.0  19.0   7.0  24.0  10.0  231.0\n",
       "3  138.0  26.0   9.0  16.0  11.0  221.0\n",
       "4   99.0  21.0  10.0   8.0  10.0  193.0\n",
       "5  146.0   5.0  13.0   5.0   6.0  242.0"
      ]
     },
     "execution_count": 3,
     "metadata": {},
     "output_type": "execute_result"
    }
   ],
   "source": [
    "data.head()"
   ]
  },
  {
   "cell_type": "code",
   "execution_count": 4,
   "metadata": {},
   "outputs": [
    {
     "data": {
      "text/html": [
       "<div>\n",
       "<style scoped>\n",
       "    .dataframe tbody tr th:only-of-type {\n",
       "        vertical-align: middle;\n",
       "    }\n",
       "\n",
       "    .dataframe tbody tr th {\n",
       "        vertical-align: top;\n",
       "    }\n",
       "\n",
       "    .dataframe thead th {\n",
       "        text-align: right;\n",
       "    }\n",
       "</style>\n",
       "<table border=\"1\" class=\"dataframe\">\n",
       "  <thead>\n",
       "    <tr style=\"text-align: right;\">\n",
       "      <th></th>\n",
       "      <th>V1</th>\n",
       "      <th>V2</th>\n",
       "      <th>V3</th>\n",
       "      <th>V4</th>\n",
       "      <th>V5</th>\n",
       "      <th>V6</th>\n",
       "    </tr>\n",
       "  </thead>\n",
       "  <tbody>\n",
       "    <tr>\n",
       "      <th>count</th>\n",
       "      <td>784.000000</td>\n",
       "      <td>784.000000</td>\n",
       "      <td>784.000000</td>\n",
       "      <td>784.000000</td>\n",
       "      <td>784.000000</td>\n",
       "      <td>784.000000</td>\n",
       "    </tr>\n",
       "    <tr>\n",
       "      <th>mean</th>\n",
       "      <td>98.929847</td>\n",
       "      <td>3.748724</td>\n",
       "      <td>11.475765</td>\n",
       "      <td>7.588010</td>\n",
       "      <td>4.149235</td>\n",
       "      <td>168.258929</td>\n",
       "    </tr>\n",
       "    <tr>\n",
       "      <th>std</th>\n",
       "      <td>58.395240</td>\n",
       "      <td>3.704179</td>\n",
       "      <td>9.206829</td>\n",
       "      <td>12.164681</td>\n",
       "      <td>2.253290</td>\n",
       "      <td>109.671904</td>\n",
       "    </tr>\n",
       "    <tr>\n",
       "      <th>min</th>\n",
       "      <td>-1.000000</td>\n",
       "      <td>-1.000000</td>\n",
       "      <td>-1.000000</td>\n",
       "      <td>-1.000000</td>\n",
       "      <td>-1.000000</td>\n",
       "      <td>-1.000000</td>\n",
       "    </tr>\n",
       "    <tr>\n",
       "      <th>25%</th>\n",
       "      <td>67.000000</td>\n",
       "      <td>2.000000</td>\n",
       "      <td>7.000000</td>\n",
       "      <td>4.000000</td>\n",
       "      <td>3.000000</td>\n",
       "      <td>31.000000</td>\n",
       "    </tr>\n",
       "    <tr>\n",
       "      <th>50%</th>\n",
       "      <td>85.500000</td>\n",
       "      <td>3.000000</td>\n",
       "      <td>10.000000</td>\n",
       "      <td>5.000000</td>\n",
       "      <td>4.000000</td>\n",
       "      <td>227.000000</td>\n",
       "    </tr>\n",
       "    <tr>\n",
       "      <th>75%</th>\n",
       "      <td>116.000000</td>\n",
       "      <td>4.000000</td>\n",
       "      <td>14.000000</td>\n",
       "      <td>7.000000</td>\n",
       "      <td>5.000000</td>\n",
       "      <td>254.000000</td>\n",
       "    </tr>\n",
       "    <tr>\n",
       "      <th>max</th>\n",
       "      <td>607.000000</td>\n",
       "      <td>31.000000</td>\n",
       "      <td>127.000000</td>\n",
       "      <td>189.000000</td>\n",
       "      <td>27.000000</td>\n",
       "      <td>400.000000</td>\n",
       "    </tr>\n",
       "  </tbody>\n",
       "</table>\n",
       "</div>"
      ],
      "text/plain": [
       "               V1          V2          V3          V4          V5          V6\n",
       "count  784.000000  784.000000  784.000000  784.000000  784.000000  784.000000\n",
       "mean    98.929847    3.748724   11.475765    7.588010    4.149235  168.258929\n",
       "std     58.395240    3.704179    9.206829   12.164681    2.253290  109.671904\n",
       "min     -1.000000   -1.000000   -1.000000   -1.000000   -1.000000   -1.000000\n",
       "25%     67.000000    2.000000    7.000000    4.000000    3.000000   31.000000\n",
       "50%     85.500000    3.000000   10.000000    5.000000    4.000000  227.000000\n",
       "75%    116.000000    4.000000   14.000000    7.000000    5.000000  254.000000\n",
       "max    607.000000   31.000000  127.000000  189.000000   27.000000  400.000000"
      ]
     },
     "execution_count": 4,
     "metadata": {},
     "output_type": "execute_result"
    }
   ],
   "source": [
    "data.describe()"
   ]
  },
  {
   "cell_type": "code",
   "execution_count": 5,
   "metadata": {},
   "outputs": [],
   "source": [
    "data = data[\"V1\"]"
   ]
  },
  {
   "cell_type": "code",
   "execution_count": 6,
   "metadata": {},
   "outputs": [
    {
     "name": "stdout",
     "output_type": "stream",
     "text": [
      "Média:  98.92984693877551\n",
      "Mediana:  85.5\n",
      "Moda:  71.0\n"
     ]
    }
   ],
   "source": [
    "# a) Tendência central\n",
    "media, mediana, moda = data.mean(), data.median(), data.mode()[0]\n",
    "print(\"Média: \", media)\n",
    "print(\"Mediana: \", mediana)\n",
    "print(\"Moda: \", moda)"
   ]
  },
  {
   "cell_type": "code",
   "execution_count": 7,
   "metadata": {},
   "outputs": [
    {
     "name": "stdout",
     "output_type": "stream",
     "text": [
      "Primeira:  98.92984693877551\n",
      "Segunda:  3405.6545173235063\n"
     ]
    }
   ],
   "source": [
    "# b) Momento de primeira e central de segunda ordem\n",
    "variancia = data.var(ddof = 0)\n",
    "print(\"Primeira: \", media)\n",
    "print(\"Segunda: \", variancia)"
   ]
  },
  {
   "cell_type": "code",
   "execution_count": 8,
   "metadata": {},
   "outputs": [
    {
     "data": {
      "image/png": "[encoded data removed]",
      "text/plain": [
       "<Figure size 432x288 with 1 Axes>"
      ]
     },
     "metadata": {
      "needs_background": "light"
     },
     "output_type": "display_data"
    }
   ],
   "source": [
    "# c) e d) Plote a distribuição da variável, marcando os valores acima calculados e verificar visualmente a normalidade\n",
    "plot = plt.hist(data, 20)\n",
    "plot = plt.axvline(media, c = \"red\", label = \"média\")\n",
    "plot = plt.axvline(mediana, c = \"yellow\", label = \"mediana\")\n",
    "plot = plt.axvline(moda, c = \"pink\", label = \"moda\")\n",
    "plot = plt.axvline(media + math.sqrt(variancia), c = \"green\", ls = \"--\", label = \"zona de norm\")\n",
    "plot = plt.axvline(media - math.sqrt(variancia), c = \"green\", ls = \"--\")\n",
    "plot = plt.legend()"
   ]
  },
  {
   "cell_type": "code",
   "execution_count": 9,
   "metadata": {},
   "outputs": [
    {
     "name": "stdout",
     "output_type": "stream",
     "text": [
      "Coeficiente de Assimetria de Pearson:  0.4785951144828405\n",
      "Assimetria moderada à direita\n",
      "Coeficiente de Curtose:  0.2346743295019155\n",
      "Curva platicúrtica\n"
     ]
    }
   ],
   "source": [
    "# e) Verifique numericamente o grau de assimetria e curtose da variável\n",
    "coefAssimPearson = (media - moda) / math.sqrt(variancia)\n",
    "print(\"Coeficiente de Assimetria de Pearson: \", coefAssimPearson)\n",
    "tipoAssimetria = \"à esquerda\" if coefAssimPearson < 0 else \"à direita\"\n",
    "if abs(coefAssimPearson) < 0.15:\n",
    "    print(\"Assimetria fraca \" + tipoAssimetria)\n",
    "else:\n",
    "    print(\"Assimetria moderada \" + tipoAssimetria) if coefAssimPearson < 1 else print(\"Assimetria forte \" + tipoAssimetria)\n",
    "q3, q1, p90, p10 = data.quantile(0.75), data.quantile(0.25), data.quantile(0.9), data.quantile(0.1)\n",
    "coefCurt = (q3 - q1) / (2 * (p90 - p10))\n",
    "print(\"Coeficiente de Curtose: \", coefCurt)\n",
    "if coefCurt == 0.263:\n",
    "    print(\"Curva mesocúrtica\")\n",
    "else:\n",
    "    print(\"Curva platicúrtica\") if coefCurt < 0.263 else print(\"Curva leptocúrtica\")"
   ]
  },
  {
   "cell_type": "code",
   "execution_count": 10,
   "metadata": {},
   "outputs": [
    {
     "data": {
      "image/png": "[encoded data removed]",
      "text/plain": [
       "<Figure size 432x288 with 1 Axes>"
      ]
     },
     "metadata": {
      "needs_background": "light"
     },
     "output_type": "display_data"
    }
   ],
   "source": [
    "# f) Confirme a normalidade da variável através do Q-Q Plot\n",
    "plot = plt.boxplot(data, vert = False)"
   ]
  }
 ],
 "metadata": {
  "kernelspec": {
   "display_name": "Python 3",
   "language": "python",
   "name": "python3"
  },
  "language_info": {
   "codemirror_mode": {
    "name": "ipython",
    "version": 3
   },
   "file_extension": ".py",
   "mimetype": "text/x-python",
   "name": "python",
   "nbconvert_exporter": "python",
   "pygments_lexer": "ipython3",
   "version": "3.7.3"
  }
 },
 "nbformat": 4,
 "nbformat_minor": 2
}
