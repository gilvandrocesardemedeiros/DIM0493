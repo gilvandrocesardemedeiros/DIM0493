{
 "cells": [
  {
   "cell_type": "code",
   "execution_count": 1,
   "metadata": {},
   "outputs": [],
   "source": [
    "import pandas as pd\n",
    "import numpy as np\n",
    "import math\n",
    "import matplotlib.pyplot as plt"
   ]
  },
  {
   "cell_type": "code",
   "execution_count": 2,
   "metadata": {},
   "outputs": [],
   "source": [
    "data = pd.Series(np.around(np.random.normal(loc = 0, scale = 1, size = (1000)), decimals = 2))"
   ]
  },
  {
   "cell_type": "code",
   "execution_count": 3,
   "metadata": {},
   "outputs": [
    {
     "name": "stdout",
     "output_type": "stream",
     "text": [
      "Média:  0.029489999999999978\n",
      "Mediana:  -0.01\n",
      "Moda:  -0.44\n"
     ]
    }
   ],
   "source": [
    "# a) Tendência central\n",
    "media, mediana, moda = data.mean(), data.median(), data.mode()[0]\n",
    "print(\"Média: \", media)\n",
    "print(\"Mediana: \", mediana)\n",
    "print(\"Moda: \", moda)"
   ]
  },
  {
   "cell_type": "code",
   "execution_count": 4,
   "metadata": {},
   "outputs": [
    {
     "name": "stdout",
     "output_type": "stream",
     "text": [
      "Primeira:  0.029489999999999978\n",
      "Segunda:  0.9458550399000004\n"
     ]
    }
   ],
   "source": [
    "# b) Momento de primeira e central de segunda ordem\n",
    "variancia = data.var(ddof = 0)\n",
    "print(\"Primeira: \", media)\n",
    "print(\"Segunda: \", variancia)"
   ]
  },
  {
   "cell_type": "code",
   "execution_count": 5,
   "metadata": {},
   "outputs": [
    {
     "data": {
      "image/png": "[encoded data removed]",
      "text/plain": [
       "<Figure size 432x288 with 1 Axes>"
      ]
     },
     "metadata": {
      "needs_background": "light"
     },
     "output_type": "display_data"
    }
   ],
   "source": [
    "# c) e d) Plote a distribuição da variável, marcando os valores acima calculados e verificar visualmente a normalidade\n",
    "plot = plt.hist(data, 20)\n",
    "plot = plt.axvline(media, c = \"red\", label = \"média\")\n",
    "plot = plt.axvline(mediana, c = \"yellow\", label = \"mediana\")\n",
    "plot = plt.axvline(moda, c = \"pink\", label = \"moda\")\n",
    "plot = plt.axvline(media + math.sqrt(variancia), c = \"green\", ls = \"--\", label = \"zona de norm\")\n",
    "plot = plt.axvline(media - math.sqrt(variancia), c = \"green\", ls = \"--\")\n",
    "plot = plt.legend()"
   ]
  },
  {
   "cell_type": "code",
   "execution_count": 6,
   "metadata": {},
   "outputs": [
    {
     "name": "stdout",
     "output_type": "stream",
     "text": [
      "Coeficiente de Assimetria de Pearson:  0.4827408549108328\n",
      "Assimetria moderada à direita\n",
      "Coeficiente de Curtose:  0.2657078743370053\n",
      "Curva leptocúrtica\n"
     ]
    }
   ],
   "source": [
    "# e) Verifique numericamente o grau de assimetria e curtose da variável\n",
    "coefAssimPearson = (media - moda) / math.sqrt(variancia)\n",
    "print(\"Coeficiente de Assimetria de Pearson: \", coefAssimPearson)\n",
    "tipoAssimetria = \"à esquerda\" if coefAssimPearson < 0 else \"à direita\"\n",
    "if abs(coefAssimPearson) < 0.15:\n",
    "    print(\"Assimetria fraca \" + tipoAssimetria)\n",
    "else:\n",
    "    print(\"Assimetria moderada \" + tipoAssimetria) if coefAssimPearson < 1 else print(\"Assimetria forte \" + tipoAssimetria)\n",
    "q3, q1, p90, p10 = data.quantile(0.75), data.quantile(0.25), data.quantile(0.9), data.quantile(0.1)\n",
    "coefCurt = (q3 - q1) / (2 * (p90 -p10))\n",
    "print(\"Coeficiente de Curtose: \", coefCurt)\n",
    "if coefCurt == 0.263:\n",
    "    print(\"Curva mesocúrtica\")\n",
    "else:\n",
    "    print(\"Curva platicúrtica\") if coefCurt < 0.263 else print(\"Curva leptocúrtica\")"
   ]
  },
  {
   "cell_type": "code",
   "execution_count": 7,
   "metadata": {},
   "outputs": [
    {
     "data": {
      "image/png": "[encoded data removed]",
      "text/plain": [
       "<Figure size 432x288 with 1 Axes>"
      ]
     },
     "metadata": {
      "needs_background": "light"
     },
     "output_type": "display_data"
    }
   ],
   "source": [
    "# f) Confirme a normalidade da variável através do Q-Q Plot\n",
    "plot = plt.boxplot(data, vert = False)"
   ]
  }
 ],
 "metadata": {
  "kernelspec": {
   "display_name": "Python 3",
   "language": "python",
   "name": "python3"
  },
  "language_info": {
   "codemirror_mode": {
    "name": "ipython",
    "version": 3
   },
   "file_extension": ".py",
   "mimetype": "text/x-python",
   "name": "python",
   "nbconvert_exporter": "python",
   "pygments_lexer": "ipython3",
   "version": "3.7.3"
  }
 },
 "nbformat": 4,
 "nbformat_minor": 2
}
